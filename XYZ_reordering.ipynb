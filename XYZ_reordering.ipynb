{
 "cells": [
  {
   "cell_type": "markdown",
   "metadata": {},
   "source": [
    "## XYZ file preparation\n",
    "\n",
    "1. for xyz file with multiple molecules, each molecule has to arrange its atoms in a specified order\n"
   ]
  },
  {
   "cell_type": "code",
   "execution_count": 46,
   "metadata": {},
   "outputs": [],
   "source": [
    "import re\n",
    "import numpy as np\n",
    "import matplotlib.pyplot as plt\n",
    "from pylab import *\n",
    "import os\n",
    "import scipy.linalg as la\n",
    "%matplotlib inline  \n",
    "# maybe some 3D plot for the molecule?? Is it possible?\n",
    "\n",
    "#ORDER Matrix\n",
    "# order = [24,25,20,21,22,23,5,15,6,26,27,7,16,29,28,30,31,17,48,49,8,18,51,50,52,53,19,32,54,35,34,13,38,37,36,39,41,42,43\n",
    "# ,45,47,10,46,9,57,56,14,60,59,58,61,63,64,65,67,69,12,68,11,33,55,40,1,2,44,62,3,4,66,70,71,72,73,...]"
   ]
  },
  {
   "cell_type": "code",
   "execution_count": 113,
   "metadata": {},
   "outputs": [],
   "source": [
    "# for xyz file with multiple molecules, each molecule has to arrange its atoms in a specified order\n",
    "def W_xyzinOrder(path,N_a,pathw): #rearrange each molecule in the correct atoms order\n",
    "    \n",
    "    with open (path) as file:\n",
    "        lines = file.readlines()\n",
    "        tot_a = int(lines[0].split()[0])\n",
    "        tot_m = int(tot_a/N_a)\n",
    "        \n",
    "        with open (pathw,'w') as out:\n",
    "        \n",
    "            out.write(lines[0])\n",
    "            out.write('\\n')\n",
    "        \n",
    "            for i in range(tot_m):\n",
    "                for j in range(N_a):\n",
    "                    out.write(lines[1+order[j]+i*85])\n",
    "    \n",
    "    "
   ]
  },
  {
   "cell_type": "code",
   "execution_count": 114,
   "metadata": {},
   "outputs": [],
   "source": [
    "path = './test_crystal/10x2x1and2/Y6_crystal_10x2x1.xyz'\n",
    "N_atoms = 85\n",
    "pathw = './test_crystal/10x2x1and2/Y6_crystal_10x2x1.xyz-order'\n",
    "\n",
    "# note: order is mol2 to g96... i.e. 24th atom in mol2 is the 1st atom in g96\n",
    "# note: so the 5th atom in mol2 which is a N atom, is the 7th atom in g96...\n",
    "order = [24,25,20,21,22,23,5,15,6,26,27,7,16,29,28,30,31,17,48,49,8,18,51,50,52,53,19,32,54,35,34,13,38,37,36,39,\\\n",
    "         41,42,43,45,47,10,46,9,57,56,14,60,59,58,61,63,64,65,67,69,12,68,11,33,55,40,1,2,44,62,3,4,66,70,71,72,73\\\n",
    "         ,74,75,76,77,78,79,80,81,82,83,84,85]\n",
    "W_xyzinOrder(path,N_atoms,pathw)\n"
   ]
  },
  {
   "cell_type": "code",
   "execution_count": null,
   "metadata": {},
   "outputs": [],
   "source": []
  },
  {
   "cell_type": "code",
   "execution_count": null,
   "metadata": {},
   "outputs": [],
   "source": []
  },
  {
   "cell_type": "code",
   "execution_count": null,
   "metadata": {},
   "outputs": [],
   "source": []
  },
  {
   "cell_type": "code",
   "execution_count": null,
   "metadata": {},
   "outputs": [],
   "source": []
  }
 ],
 "metadata": {
  "anaconda-cloud": {},
  "kernelspec": {
   "display_name": "Python [default]",
   "language": "python",
   "name": "python3"
  },
  "language_info": {
   "codemirror_mode": {
    "name": "ipython",
    "version": 3
   },
   "file_extension": ".py",
   "mimetype": "text/x-python",
   "name": "python",
   "nbconvert_exporter": "python",
   "pygments_lexer": "ipython3",
   "version": "3.5.4"
  }
 },
 "nbformat": 4,
 "nbformat_minor": 1
}
